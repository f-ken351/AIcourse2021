{
 "cells": [
  {
   "cell_type": "markdown",
   "metadata": {},
   "source": [
    "## Optunaによるハイパーパラメータ最適化\n",
    "- Optuna 要インストール\n",
    " - https://optuna.org"
   ]
  },
  {
   "cell_type": "code",
   "execution_count": 1,
   "metadata": {},
   "outputs": [],
   "source": [
    "import numpy as np\n",
    "from sklearn.svm import SVC\n",
    "from sklearn.datasets import load_breast_cancer\n",
    "from sklearn.model_selection import cross_val_score, train_test_split\n",
    "from sklearn.preprocessing import scale\n",
    "import optuna"
   ]
  },
  {
   "cell_type": "markdown",
   "metadata": {},
   "source": [
    "### Breast Cancerデータのロード"
   ]
  },
  {
   "cell_type": "code",
   "execution_count": 2,
   "metadata": {},
   "outputs": [],
   "source": [
    "df = load_breast_cancer()\n",
    "X = scale(df.data)\n",
    "y = df.target"
   ]
  },
  {
   "cell_type": "markdown",
   "metadata": {},
   "source": [
    "### 最適化関数の定義"
   ]
  },
  {
   "cell_type": "code",
   "execution_count": 3,
   "metadata": {
    "scrolled": true
   },
   "outputs": [],
   "source": [
    "def objective(trial):\n",
    "    param_kernel = trial.suggest_categorical('param_kernel', ['rbf', 'poly'])\n",
    "    param_gamma = trial.suggest_loguniform('param_gamma', 1e-3, 1e3)\n",
    "    param_degree = trial.suggest_int('param_degree', 1, 4)\n",
    "    param_coef0 =  trial.suggest_int('param_coef0', 0, 1e3)\n",
    "    svm = SVC(kernel=param_kernel, gamma=param_gamma, degree=param_degree, coef0=param_coef0)\n",
    "\n",
    "    # クロスバリデーションのテストデータに対するAccuracy\n",
    "    score = cross_val_score(svm, X_train, y_train, cv=5)\n",
    "    # デフォルトでは最小化になっているため，(1 - accuracy)を返すように設定\n",
    "    return 1.0 - score.mean()"
   ]
  },
  {
   "cell_type": "code",
   "execution_count": 4,
   "metadata": {
    "scrolled": true
   },
   "outputs": [
    {
     "name": "stderr",
     "output_type": "stream",
     "text": [
      "\u001b[32m[I 2021-02-16 00:56:09,715]\u001b[0m A new study created in memory with name: no-name-7ae19917-6f01-4ef2-a195-91fe4015245f\u001b[0m\n",
      "\u001b[32m[I 2021-02-16 00:56:09,770]\u001b[0m Trial 0 finished with value: 0.04531645569620246 and parameters: {'param_kernel': 'poly', 'param_gamma': 961.8533582409043, 'param_degree': 1, 'param_coef0': 767}. Best is trial 0 with value: 0.04531645569620246.\u001b[0m\n",
      "\u001b[32m[I 2021-02-16 00:56:09,797]\u001b[0m Trial 1 finished with value: 0.037753164556962204 and parameters: {'param_kernel': 'poly', 'param_gamma': 0.0651621545821569, 'param_degree': 4, 'param_coef0': 960}. Best is trial 1 with value: 0.037753164556962204.\u001b[0m\n",
      "\u001b[32m[I 2021-02-16 00:56:09,848]\u001b[0m Trial 2 finished with value: 0.06281645569620253 and parameters: {'param_kernel': 'rbf', 'param_gamma': 0.23959864837279687, 'param_degree': 4, 'param_coef0': 749}. Best is trial 1 with value: 0.037753164556962204.\u001b[0m\n",
      "\u001b[32m[I 2021-02-16 00:56:09,899]\u001b[0m Trial 3 finished with value: 0.06281645569620253 and parameters: {'param_kernel': 'rbf', 'param_gamma': 0.2402176120243161, 'param_degree': 3, 'param_coef0': 276}. Best is trial 1 with value: 0.037753164556962204.\u001b[0m\n",
      "\u001b[32m[I 2021-02-16 00:56:09,928]\u001b[0m Trial 4 finished with value: 0.02512658227848108 and parameters: {'param_kernel': 'rbf', 'param_gamma': 0.07579509499366509, 'param_degree': 1, 'param_coef0': 907}. Best is trial 4 with value: 0.02512658227848108.\u001b[0m\n",
      "\u001b[32m[I 2021-02-16 00:56:09,980]\u001b[0m Trial 5 finished with value: 0.37436708860759504 and parameters: {'param_kernel': 'rbf', 'param_gamma': 185.65413149854646, 'param_degree': 2, 'param_coef0': 398}. Best is trial 4 with value: 0.02512658227848108.\u001b[0m\n",
      "\u001b[32m[I 2021-02-16 00:56:10,032]\u001b[0m Trial 6 finished with value: 0.37436708860759504 and parameters: {'param_kernel': 'rbf', 'param_gamma': 304.6296331454864, 'param_degree': 4, 'param_coef0': 753}. Best is trial 4 with value: 0.02512658227848108.\u001b[0m\n",
      "\u001b[32m[I 2021-02-16 00:56:10,050]\u001b[0m Trial 7 finished with value: 0.05528481012658237 and parameters: {'param_kernel': 'poly', 'param_gamma': 431.2873662969298, 'param_degree': 3, 'param_coef0': 141}. Best is trial 4 with value: 0.02512658227848108.\u001b[0m\n",
      "\u001b[32m[I 2021-02-16 00:56:10,071]\u001b[0m Trial 8 finished with value: 0.0753797468354429 and parameters: {'param_kernel': 'poly', 'param_gamma': 645.0144652189372, 'param_degree': 4, 'param_coef0': 829}. Best is trial 4 with value: 0.02512658227848108.\u001b[0m\n",
      "\u001b[32m[I 2021-02-16 00:56:10,135]\u001b[0m Trial 9 finished with value: 0.37436708860759504 and parameters: {'param_kernel': 'rbf', 'param_gamma': 1.2850359974834802, 'param_degree': 1, 'param_coef0': 316}. Best is trial 4 with value: 0.02512658227848108.\u001b[0m\n",
      "\u001b[32m[I 2021-02-16 00:56:10,183]\u001b[0m Trial 10 finished with value: 0.0577215189873419 and parameters: {'param_kernel': 'rbf', 'param_gamma': 0.0013357815070060724, 'param_degree': 2, 'param_coef0': 557}. Best is trial 4 with value: 0.02512658227848108.\u001b[0m\n",
      "\u001b[32m[I 2021-02-16 00:56:10,222]\u001b[0m Trial 11 finished with value: 0.03512658227848109 and parameters: {'param_kernel': 'poly', 'param_gamma': 0.0141691880701483, 'param_degree': 1, 'param_coef0': 998}. Best is trial 4 with value: 0.02512658227848108.\u001b[0m\n",
      "\u001b[32m[I 2021-02-16 00:56:10,262]\u001b[0m Trial 12 finished with value: 0.05265822784810137 and parameters: {'param_kernel': 'poly', 'param_gamma': 0.004395795498725456, 'param_degree': 1, 'param_coef0': 955}. Best is trial 4 with value: 0.02512658227848108.\u001b[0m\n",
      "\u001b[32m[I 2021-02-16 00:56:10,310]\u001b[0m Trial 13 finished with value: 0.0377848101265823 and parameters: {'param_kernel': 'poly', 'param_gamma': 0.019030589972069092, 'param_degree': 2, 'param_coef0': 580}. Best is trial 4 with value: 0.02512658227848108.\u001b[0m\n",
      "\u001b[32m[I 2021-02-16 00:56:10,398]\u001b[0m Trial 14 finished with value: 0.37436708860759504 and parameters: {'param_kernel': 'rbf', 'param_gamma': 6.812685015040122, 'param_degree': 1, 'param_coef0': 949}. Best is trial 4 with value: 0.02512658227848108.\u001b[0m\n",
      "\u001b[32m[I 2021-02-16 00:56:10,438]\u001b[0m Trial 15 finished with value: 0.04262658227848104 and parameters: {'param_kernel': 'poly', 'param_gamma': 0.009919851280854592, 'param_degree': 1, 'param_coef0': 968}. Best is trial 4 with value: 0.02512658227848108.\u001b[0m\n",
      "\u001b[32m[I 2021-02-16 00:56:10,516]\u001b[0m Trial 16 finished with value: 0.37436708860759504 and parameters: {'param_kernel': 'rbf', 'param_gamma': 10.788948163224243, 'param_degree': 2, 'param_coef0': 10}. Best is trial 4 with value: 0.02512658227848108.\u001b[0m\n",
      "\u001b[32m[I 2021-02-16 00:56:10,561]\u001b[0m Trial 17 finished with value: 0.0703481012658227 and parameters: {'param_kernel': 'poly', 'param_gamma': 0.0011738701016881128, 'param_degree': 1, 'param_coef0': 848}. Best is trial 4 with value: 0.02512658227848108.\u001b[0m\n",
      "\u001b[32m[I 2021-02-16 00:56:10,601]\u001b[0m Trial 18 finished with value: 0.030126582278480973 and parameters: {'param_kernel': 'rbf', 'param_gamma': 0.04618138464461792, 'param_degree': 2, 'param_coef0': 635}. Best is trial 4 with value: 0.02512658227848108.\u001b[0m\n",
      "\u001b[32m[I 2021-02-16 00:56:10,649]\u001b[0m Trial 19 finished with value: 0.03262658227848103 and parameters: {'param_kernel': 'rbf', 'param_gamma': 0.08995876563996955, 'param_degree': 3, 'param_coef0': 629}. Best is trial 4 with value: 0.02512658227848108.\u001b[0m\n",
      "\u001b[32m[I 2021-02-16 00:56:10,732]\u001b[0m Trial 20 finished with value: 0.37436708860759504 and parameters: {'param_kernel': 'rbf', 'param_gamma': 1.012432381178736, 'param_degree': 2, 'param_coef0': 458}. Best is trial 4 with value: 0.02512658227848108.\u001b[0m\n",
      "\u001b[32m[I 2021-02-16 00:56:10,781]\u001b[0m Trial 21 finished with value: 0.02512658227848108 and parameters: {'param_kernel': 'rbf', 'param_gamma': 0.06957555235783525, 'param_degree': 3, 'param_coef0': 654}. Best is trial 4 with value: 0.02512658227848108.\u001b[0m\n",
      "\u001b[32m[I 2021-02-16 00:56:10,829]\u001b[0m Trial 22 finished with value: 0.02512658227848108 and parameters: {'param_kernel': 'rbf', 'param_gamma': 0.0615223184244091, 'param_degree': 3, 'param_coef0': 671}. Best is trial 4 with value: 0.02512658227848108.\u001b[0m\n",
      "\u001b[32m[I 2021-02-16 00:56:10,894]\u001b[0m Trial 23 finished with value: 0.06281645569620253 and parameters: {'param_kernel': 'rbf', 'param_gamma': 0.23678609631393896, 'param_degree': 3, 'param_coef0': 682}. Best is trial 4 with value: 0.02512658227848108.\u001b[0m\n",
      "\u001b[32m[I 2021-02-16 00:56:10,937]\u001b[0m Trial 24 finished with value: 0.047626582278481044 and parameters: {'param_kernel': 'rbf', 'param_gamma': 0.004289159729990463, 'param_degree': 3, 'param_coef0': 487}. Best is trial 4 with value: 0.02512658227848108.\u001b[0m\n",
      "\u001b[32m[I 2021-02-16 00:56:11,022]\u001b[0m Trial 25 finished with value: 0.37436708860759504 and parameters: {'param_kernel': 'rbf', 'param_gamma': 2.4667610969150413, 'param_degree': 3, 'param_coef0': 855}. Best is trial 4 with value: 0.02512658227848108.\u001b[0m\n",
      "\u001b[32m[I 2021-02-16 00:56:11,094]\u001b[0m Trial 26 finished with value: 0.10556962025316463 and parameters: {'param_kernel': 'rbf', 'param_gamma': 0.35875559537873863, 'param_degree': 3, 'param_coef0': 687}. Best is trial 4 with value: 0.02512658227848108.\u001b[0m\n",
      "\u001b[32m[I 2021-02-16 00:56:11,140]\u001b[0m Trial 27 finished with value: 0.030126582278480973 and parameters: {'param_kernel': 'rbf', 'param_gamma': 0.041785657522152936, 'param_degree': 3, 'param_coef0': 880}. Best is trial 4 with value: 0.02512658227848108.\u001b[0m\n",
      "\u001b[32m[I 2021-02-16 00:56:11,197]\u001b[0m Trial 28 finished with value: 0.05025316455696205 and parameters: {'param_kernel': 'rbf', 'param_gamma': 0.12953016333201858, 'param_degree': 4, 'param_coef0': 560}. Best is trial 4 with value: 0.02512658227848108.\u001b[0m\n",
      "\u001b[32m[I 2021-02-16 00:56:11,240]\u001b[0m Trial 29 finished with value: 0.03762658227848115 and parameters: {'param_kernel': 'rbf', 'param_gamma': 0.025663990542126803, 'param_degree': 3, 'param_coef0': 789}. Best is trial 4 with value: 0.02512658227848108.\u001b[0m\n"
     ]
    }
   ],
   "source": [
    "X_train, X_test, y_train, y_test = train_test_split(X, y, test_size=0.3, random_state=1)\n",
    "\n",
    "# サンプラーインスタンスの生成\n",
    "smp = optuna.samplers.TPESampler(seed=1)\n",
    "# 最適化インスタンスの生成\n",
    "study = optuna.create_study(sampler=smp)\n",
    "# 最適化の実行，n_trialsは試行回数\n",
    "study.optimize(objective, n_trials=30)"
   ]
  },
  {
   "cell_type": "markdown",
   "metadata": {},
   "source": [
    "### Bestパラメータで再度学習を行いAccuracyを算出"
   ]
  },
  {
   "cell_type": "code",
   "execution_count": 9,
   "metadata": {},
   "outputs": [
    {
     "name": "stdout",
     "output_type": "stream",
     "text": [
      "Train acc: 0.9925, Test acc: 0.9649\n"
     ]
    }
   ],
   "source": [
    "svm_best = SVC(kernel=study.best_params['param_kernel'], \n",
    "                            gamma=study.best_params['param_gamma'], \n",
    "                            degree=study.best_params['param_degree'],\n",
    "                            coef0=study.best_params['param_coef0'])\n",
    "svm_best.fit(X_train, y_train)\n",
    "trn_acc = svm_best.score(X_train, y_train)\n",
    "tst_acc = svm_best.score(X_test, y_test)\n",
    "print(\"Train acc: %.4f, Test acc: %.4f\" % (trn_acc, tst_acc))"
   ]
  },
  {
   "cell_type": "markdown",
   "metadata": {},
   "source": [
    "### Best パラメータを表示"
   ]
  },
  {
   "cell_type": "code",
   "execution_count": 10,
   "metadata": {},
   "outputs": [
    {
     "name": "stdout",
     "output_type": "stream",
     "text": [
      "{'param_kernel': 'rbf', 'param_gamma': 0.07579509499366509, 'param_degree': 1, 'param_coef0': 907}\n"
     ]
    }
   ],
   "source": [
    "print(study.best_params)"
   ]
  },
  {
   "cell_type": "code",
   "execution_count": null,
   "metadata": {},
   "outputs": [],
   "source": []
  }
 ],
 "metadata": {
  "kernelspec": {
   "display_name": "Python 3",
   "language": "python",
   "name": "python3"
  },
  "language_info": {
   "codemirror_mode": {
    "name": "ipython",
    "version": 3
   },
   "file_extension": ".py",
   "mimetype": "text/x-python",
   "name": "python",
   "nbconvert_exporter": "python",
   "pygments_lexer": "ipython3",
   "version": "3.8.6"
  }
 },
 "nbformat": 4,
 "nbformat_minor": 2
}
