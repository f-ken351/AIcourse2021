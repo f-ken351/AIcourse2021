{
 "cells": [
  {
   "cell_type": "markdown",
   "metadata": {},
   "source": [
    "- (c) Ken-ichi Fukui, 2021/02/08\n",
    "-  MIT License"
   ]
  },
  {
   "cell_type": "markdown",
   "metadata": {},
   "source": [
    "## ナイーブベイズ分類器によるゴルフプレイデータの識別とROC,AUCによる評価\n",
    "- データweather.nominal.arffは本プログラムと同じフォルダ内に置いておく\n",
    "- カテゴリカルナイーブベイズを使用したバージョン"
   ]
  },
  {
   "cell_type": "code",
   "execution_count": 4,
   "metadata": {},
   "outputs": [],
   "source": [
    "%matplotlib inline\n",
    "import numpy as np\n",
    "from sklearn.preprocessing import LabelEncoder\n",
    "from scipy.io import arff\n",
    "from sklearn.model_selection import LeaveOneOut\n",
    "from sklearn.metrics import roc_curve,auc\n",
    "import matplotlib.pyplot as plt\n",
    "from sklearn.naive_bayes import CategoricalNB"
   ]
  },
  {
   "cell_type": "markdown",
   "metadata": {},
   "source": [
    "### arffデータの読み込み"
   ]
  },
  {
   "cell_type": "code",
   "execution_count": 2,
   "metadata": {},
   "outputs": [
    {
     "data": {
      "text/plain": [
       "(array([(b'sunny', b'hot', b'high', b'FALSE', b'no'),\n",
       "        (b'sunny', b'hot', b'high', b'TRUE', b'no'),\n",
       "        (b'overcast', b'hot', b'high', b'FALSE', b'yes'),\n",
       "        (b'rainy', b'mild', b'high', b'FALSE', b'yes'),\n",
       "        (b'rainy', b'cool', b'normal', b'FALSE', b'yes'),\n",
       "        (b'rainy', b'cool', b'normal', b'TRUE', b'no'),\n",
       "        (b'overcast', b'cool', b'normal', b'TRUE', b'yes'),\n",
       "        (b'sunny', b'mild', b'high', b'FALSE', b'no'),\n",
       "        (b'sunny', b'cool', b'normal', b'FALSE', b'yes'),\n",
       "        (b'rainy', b'mild', b'normal', b'FALSE', b'yes'),\n",
       "        (b'sunny', b'mild', b'normal', b'TRUE', b'yes'),\n",
       "        (b'overcast', b'mild', b'high', b'TRUE', b'yes'),\n",
       "        (b'overcast', b'hot', b'normal', b'FALSE', b'yes'),\n",
       "        (b'rainy', b'mild', b'high', b'TRUE', b'no')],\n",
       "       dtype=[('outlook', 'S8'), ('temperature', 'S4'), ('humidity', 'S6'), ('windy', 'S5'), ('play', 'S3')]),\n",
       " Dataset: weather.symbolic\n",
       " \toutlook's type is nominal, range is ('sunny', 'overcast', 'rainy')\n",
       " \ttemperature's type is nominal, range is ('hot', 'mild', 'cool')\n",
       " \thumidity's type is nominal, range is ('high', 'normal')\n",
       " \twindy's type is nominal, range is ('TRUE', 'FALSE')\n",
       " \tplay's type is nominal, range is ('yes', 'no'))"
      ]
     },
     "execution_count": 2,
     "metadata": {},
     "output_type": "execute_result"
    }
   ],
   "source": [
    "f = open(\"weather.nominal.arff\", \"r\", encoding=\"utf-8\")\n",
    "data, meta = arff.loadarff(f)\n",
    "data, meta"
   ]
  },
  {
   "cell_type": "markdown",
   "metadata": {},
   "source": [
    "### LabelEncoderを使ってラベル特徴を数値に変換\n",
    "例えば，変数outlookの値{sunny, overcast, rainy}は，{0,1,2}に変換される"
   ]
  },
  {
   "cell_type": "code",
   "execution_count": 3,
   "metadata": {},
   "outputs": [
    {
     "data": {
      "text/plain": [
       "array([[2., 1., 0., 0.],\n",
       "       [2., 1., 0., 1.],\n",
       "       [0., 1., 0., 0.],\n",
       "       [1., 2., 0., 0.],\n",
       "       [1., 0., 1., 0.],\n",
       "       [1., 0., 1., 1.],\n",
       "       [0., 0., 1., 1.],\n",
       "       [2., 2., 0., 0.],\n",
       "       [2., 0., 1., 0.],\n",
       "       [1., 2., 1., 0.],\n",
       "       [2., 2., 1., 1.],\n",
       "       [0., 2., 0., 1.],\n",
       "       [0., 1., 1., 0.],\n",
       "       [1., 2., 0., 1.]])"
      ]
     },
     "execution_count": 3,
     "metadata": {},
     "output_type": "execute_result"
    }
   ],
   "source": [
    "le = [LabelEncoder(), LabelEncoder(), LabelEncoder(), LabelEncoder(),LabelEncoder()]\n",
    "for idx,attr in enumerate(meta):\n",
    "    le[idx].fit(list(meta[attr][1]))\n",
    "\n",
    "class_array = np.array([])\n",
    "feature_array = np.zeros((0,4))\n",
    "\n",
    "for x in data:\n",
    "    w = list(x)\n",
    "    class_array = np.append(class_array, le[-1].transform(w[-1].decode(\"utf-8\").split()))\n",
    "    w.pop(-1)\n",
    "    for idx in range(0, len(w)):\n",
    "        w[idx] = le[idx].transform(w[idx].decode(\"utf-8\").split())\n",
    "    temp = np.array(w)\n",
    "    feature_array = np.append(feature_array, np.ravel(temp).reshape(1,-1), axis=0)\n",
    "\n",
    "feature_array"
   ]
  },
  {
   "cell_type": "markdown",
   "metadata": {},
   "source": [
    "### 1つ抜き交差検証（Leave-one-out cross-validation）\n",
    "全N個のデータから1個を除いた(N-1)個を学習データとしてモデルを学習し，残りの1個でテストを行う．これをN回繰り返す．"
   ]
  },
  {
   "cell_type": "code",
   "execution_count": 6,
   "metadata": {},
   "outputs": [
    {
     "name": "stdout",
     "output_type": "stream",
     "text": [
      "True Label: [0.]\n",
      "Posterior Probability: [[0.83184064 0.16815936]]\n",
      "True Label: [0.]\n",
      "Posterior Probability: [[0.94893508 0.05106492]]\n",
      "True Label: [1.]\n",
      "Posterior Probability: [[0.4133176 0.5866824]]\n",
      "True Label: [1.]\n",
      "Posterior Probability: [[0.88570772 0.11429228]]\n",
      "True Label: [1.]\n",
      "Posterior Probability: [[0.39830937 0.60169063]]\n",
      "True Label: [0.]\n",
      "Posterior Probability: [[0.006613 0.993387]]\n",
      "True Label: [1.]\n",
      "Posterior Probability: [[0.0711119 0.9288881]]\n",
      "True Label: [0.]\n",
      "Posterior Probability: [[0.71701019 0.28298981]]\n",
      "True Label: [1.]\n",
      "Posterior Probability: [[0.65103176 0.34896824]]\n",
      "True Label: [1.]\n",
      "Posterior Probability: [[0.46123992 0.53876008]]\n",
      "True Label: [1.]\n",
      "Posterior Probability: [[0.89636828 0.10363172]]\n",
      "True Label: [1.]\n",
      "Posterior Probability: [[0.47262957 0.52737043]]\n",
      "True Label: [1.]\n",
      "Posterior Probability: [[0.07220863 0.92779137]]\n",
      "True Label: [0.]\n",
      "Posterior Probability: [[0.77155298 0.22844702]]\n"
     ]
    }
   ],
   "source": [
    "y_train_post_list,y_train_list,y_test_post_list,y_test_list = [],[],[],[]\n",
    "\n",
    "loo = LeaveOneOut()\n",
    "for train_index, test_index in loo.split(feature_array):\n",
    "    X_train, X_test = feature_array[train_index], feature_array[test_index]\n",
    "    y_train, y_test = class_array[train_index], class_array[test_index]\n",
    "\n",
    "    # =====================================================================\n",
    "    # カテゴリカルナイーブベイズ（CategoricalNB）を使用する．\n",
    "    # alpha(>0)はスムージングのパラメータ．\n",
    "    # ただし，等価標本サイズmとの関係はalpha=m/n\n",
    "    # http://scikit-learn.org/stable/modules/naive_bayes.html#multinomial-naive-bayes\n",
    "    # fit_prior=Trueに指定すると学習データから事前確率を求める．\n",
    "    # class_priorは，class_prior=[0.2,0.8]の形で事前確率を指定する．fit_prior=Falseのときに有効．\n",
    "    clf = CategoricalNB(alpha=0.1, class_prior=[0.2,0.8], fit_prior=False)    \n",
    "    clf.fit(X_train,y_train)\n",
    "\n",
    "    # =====================================================================\n",
    "    # 学習データとテストデータに対する各クラスの事後確率を算出\n",
    "    posterior_trn = clf.predict_proba(X_train)\n",
    "    posterior_tst = clf.predict_proba(X_test)\n",
    "\n",
    "    # テストデータの正解クラスと事後確率を出力\n",
    "    print(\"True Label:\", y_test)\n",
    "    print(\"Posterior Probability:\", posterior_tst)\n",
    "\n",
    "    # 正解クラスと事後確率を保存\n",
    "    y_train_post_list.extend(posterior_trn[:,[1]])\n",
    "    y_train_list.extend(y_train)\n",
    "    y_test_post_list.append(posterior_tst[0][1])\n",
    "    y_test_list.extend(y_test)"
   ]
  },
  {
   "cell_type": "markdown",
   "metadata": {},
   "source": [
    "### ROC曲線の描画とAUCの算出"
   ]
  },
  {
   "cell_type": "code",
   "execution_count": 7,
   "metadata": {},
   "outputs": [
    {
     "data": {
      "image/png": "[encoded data removed]",
      "text/plain": [
       "<Figure size 432x288 with 1 Axes>"
      ]
     },
     "metadata": {
      "needs_background": "light"
     },
     "output_type": "display_data"
    }
   ],
   "source": [
    "fpr_trn, tpr_trn, thresholds_trn = roc_curve(y_train_list, y_train_post_list)\n",
    "roc_auc_trn = auc(fpr_trn, tpr_trn)\n",
    "plt.plot(fpr_trn, tpr_trn, 'k--',label='ROC for training data (AUC = %0.2f)' % roc_auc_trn, lw=2, linestyle=\"-\")\n",
    "\n",
    "fpr_tst, tpr_tst, thresholds_tst = roc_curve(y_test_list, y_test_post_list)\n",
    "roc_auc_tst = auc(fpr_tst, tpr_tst)\n",
    "plt.plot(fpr_tst, tpr_tst, 'k--',label='ROC for test data (AUC = %0.2f)' % roc_auc_tst, lw=2, linestyle=\"--\")\n",
    "\n",
    "plt.xlim([-0.05, 1.05])\n",
    "plt.ylim([-0.05, 1.05])\n",
    "plt.xlabel('False Positive Rate')\n",
    "plt.ylabel('True Positive Rate')\n",
    "plt.title('Receiver operating characteristic example')\n",
    "plt.legend(loc=\"lower right\")\n",
    "\n",
    "plt.show()"
   ]
  }
 ],
 "metadata": {
  "kernelspec": {
   "display_name": "Python 3",
   "language": "python",
   "name": "python3"
  },
  "language_info": {
   "codemirror_mode": {
    "name": "ipython",
    "version": 3
   },
   "file_extension": ".py",
   "mimetype": "text/x-python",
   "name": "python",
   "nbconvert_exporter": "python",
   "pygments_lexer": "ipython3",
   "version": "3.8.6"
  }
 },
 "nbformat": 4,
 "nbformat_minor": 2
}
