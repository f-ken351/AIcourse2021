{
 "cells": [
  {
   "cell_type": "markdown",
   "metadata": {},
   "source": [
    "- (c) Ken-ichi Fukui, 2021/02/08\n",
    "- MIT License"
   ]
  },
  {
   "cell_type": "markdown",
   "metadata": {},
   "source": [
    "## 線形回帰によるHousingデータ住宅価格の推定\n",
    "- sbs.pyを本プログラムと同じフォルダ内に配置すること"
   ]
  },
  {
   "cell_type": "code",
   "execution_count": 1,
   "metadata": {},
   "outputs": [],
   "source": [
    "import numpy as np\n",
    "from sklearn.preprocessing import scale\n",
    "from sklearn.linear_model import LinearRegression\n",
    "from sklearn.datasets import load_boston\n",
    "from sklearn.model_selection import train_test_split\n",
    "import matplotlib.pyplot as plt\n",
    "from sbs import SBS\n",
    "from sklearn.metrics import r2_score"
   ]
  },
  {
   "cell_type": "markdown",
   "metadata": {},
   "source": [
    "### Boston Housingデータのロード"
   ]
  },
  {
   "cell_type": "code",
   "execution_count": 2,
   "metadata": {},
   "outputs": [
    {
     "name": "stdout",
     "output_type": "stream",
     "text": [
      ".. _boston_dataset:\n",
      "\n",
      "Boston house prices dataset\n",
      "---------------------------\n",
      "\n",
      "**Data Set Characteristics:**  \n",
      "\n",
      "    :Number of Instances: 506 \n",
      "\n",
      "    :Number of Attributes: 13 numeric/categorical predictive. Median Value (attribute 14) is usually the target.\n",
      "\n",
      "    :Attribute Information (in order):\n",
      "        - CRIM     per capita crime rate by town\n",
      "        - ZN       proportion of residential land zoned for lots over 25,000 sq.ft.\n",
      "        - INDUS    proportion of non-retail business acres per town\n",
      "        - CHAS     Charles River dummy variable (= 1 if tract bounds river; 0 otherwise)\n",
      "        - NOX      nitric oxides concentration (parts per 10 million)\n",
      "        - RM       average number of rooms per dwelling\n",
      "        - AGE      proportion of owner-occupied units built prior to 1940\n",
      "        - DIS      weighted distances to five Boston employment centres\n",
      "        - RAD      index of accessibility to radial highways\n",
      "        - TAX      full-value property-tax rate per $10,000\n",
      "        - PTRATIO  pupil-teacher ratio by town\n",
      "        - B        1000(Bk - 0.63)^2 where Bk is the proportion of blacks by town\n",
      "        - LSTAT    % lower status of the population\n",
      "        - MEDV     Median value of owner-occupied homes in $1000's\n",
      "\n",
      "    :Missing Attribute Values: None\n",
      "\n",
      "    :Creator: Harrison, D. and Rubinfeld, D.L.\n",
      "\n",
      "This is a copy of UCI ML housing dataset.\n",
      "https://archive.ics.uci.edu/ml/machine-learning-databases/housing/\n",
      "\n",
      "\n",
      "This dataset was taken from the StatLib library which is maintained at Carnegie Mellon University.\n",
      "\n",
      "The Boston house-price data of Harrison, D. and Rubinfeld, D.L. 'Hedonic\n",
      "prices and the demand for clean air', J. Environ. Economics & Management,\n",
      "vol.5, 81-102, 1978.   Used in Belsley, Kuh & Welsch, 'Regression diagnostics\n",
      "...', Wiley, 1980.   N.B. Various transformations are used in the table on\n",
      "pages 244-261 of the latter.\n",
      "\n",
      "The Boston house-price data has been used in many machine learning papers that address regression\n",
      "problems.   \n",
      "     \n",
      ".. topic:: References\n",
      "\n",
      "   - Belsley, Kuh & Welsch, 'Regression diagnostics: Identifying Influential Data and Sources of Collinearity', Wiley, 1980. 244-261.\n",
      "   - Quinlan,R. (1993). Combining Instance-Based and Model-Based Learning. In Proceedings on the Tenth International Conference of Machine Learning, 236-243, University of Massachusetts, Amherst. Morgan Kaufmann.\n",
      "\n"
     ]
    }
   ],
   "source": [
    "df = load_boston()\n",
    "X = scale(df.data)\n",
    "y = df.target\n",
    "n_of_features = len(df.feature_names)\n",
    "\n",
    "print(df.DESCR)"
   ]
  },
  {
   "cell_type": "markdown",
   "metadata": {},
   "source": [
    "### 線形回帰＋逐次後退特徴選択（SBS）\n",
    "- 学習データ，テストデータのスプリットの乱数シードを変えて，30回試行した平均を算出している"
   ]
  },
  {
   "cell_type": "code",
   "execution_count": 3,
   "metadata": {},
   "outputs": [
    {
     "name": "stdout",
     "output_type": "stream",
     "text": [
      "Trial  1; Best 5 features: ['CHAS' 'RM' 'TAX' 'PTRATIO' 'LSTAT']\n",
      "Trial  2; Best 5 features: ['RM' 'DIS' 'TAX' 'PTRATIO' 'B']\n",
      "Trial  3; Best 5 features: ['RM' 'DIS' 'PTRATIO' 'B' 'LSTAT']\n",
      "Trial  4; Best 5 features: ['ZN' 'DIS' 'TAX' 'PTRATIO' 'LSTAT']\n",
      "Trial  5; Best 5 features: ['CRIM' 'NOX' 'RM' 'PTRATIO' 'B']\n",
      "Trial  6; Best 5 features: ['RM' 'DIS' 'TAX' 'PTRATIO' 'LSTAT']\n",
      "Trial  7; Best 5 features: ['CHAS' 'RM' 'DIS' 'PTRATIO' 'LSTAT']\n",
      "Trial  8; Best 5 features: ['NOX' 'RM' 'DIS' 'PTRATIO' 'B']\n",
      "Trial  9; Best 5 features: ['ZN' 'INDUS' 'DIS' 'TAX' 'LSTAT']\n",
      "Trial 10; Best 5 features: ['NOX' 'RM' 'DIS' 'PTRATIO' 'LSTAT']\n",
      "Trial 11; Best 5 features: ['CRIM' 'CHAS' 'RM' 'PTRATIO' 'LSTAT']\n",
      "Trial 12; Best 5 features: ['CHAS' 'RM' 'DIS' 'PTRATIO' 'LSTAT']\n",
      "Trial 13; Best 5 features: ['NOX' 'RM' 'DIS' 'PTRATIO' 'LSTAT']\n",
      "Trial 14; Best 5 features: ['ZN' 'DIS' 'RAD' 'TAX' 'LSTAT']\n",
      "Trial 15; Best 5 features: ['ZN' 'CHAS' 'DIS' 'TAX' 'LSTAT']\n",
      "Trial 16; Best 5 features: ['CHAS' 'NOX' 'RM' 'PTRATIO' 'B']\n",
      "Trial 17; Best 5 features: ['CRIM' 'DIS' 'RAD' 'PTRATIO' 'LSTAT']\n",
      "Trial 18; Best 5 features: ['RM' 'DIS' 'TAX' 'PTRATIO' 'LSTAT']\n",
      "Trial 19; Best 5 features: ['ZN' 'CHAS' 'RM' 'DIS' 'LSTAT']\n",
      "Trial 20; Best 5 features: ['RM' 'RAD' 'TAX' 'PTRATIO' 'LSTAT']\n",
      "Trial 21; Best 5 features: ['CHAS' 'NOX' 'AGE' 'DIS' 'LSTAT']\n",
      "Trial 22; Best 5 features: ['NOX' 'RM' 'DIS' 'PTRATIO' 'LSTAT']\n",
      "Trial 23; Best 5 features: ['NOX' 'RM' 'DIS' 'PTRATIO' 'B']\n",
      "Trial 24; Best 5 features: ['CHAS' 'RM' 'DIS' 'B' 'LSTAT']\n",
      "Trial 25; Best 5 features: ['RM' 'RAD' 'PTRATIO' 'B' 'LSTAT']\n",
      "Trial 26; Best 5 features: ['NOX' 'RM' 'DIS' 'PTRATIO' 'LSTAT']\n",
      "Trial 27; Best 5 features: ['RM' 'DIS' 'TAX' 'PTRATIO' 'LSTAT']\n",
      "Trial 28; Best 5 features: ['RM' 'DIS' 'PTRATIO' 'B' 'LSTAT']\n",
      "Trial 29; Best 5 features: ['CHAS' 'RM' 'DIS' 'PTRATIO' 'LSTAT']\n",
      "Trial 30; Best 5 features: ['ZN' 'CHAS' 'DIS' 'B' 'LSTAT']\n"
     ]
    }
   ],
   "source": [
    "n_of_trials = 30 # 試行回数\n",
    "n_of_selected_features = 5 # 特徴選択の特徴数の指定（特徴量名の表示のみに使用）\n",
    "score_train_all = np.zeros(n_of_features) #部分集合毎の学習データに対するスコア格納用\n",
    "score_test_all = np.zeros(n_of_features)  #部分集合毎のテストデータに対するスコア格納用\n",
    "\n",
    "for k in range(0, n_of_trials):\n",
    "    X_train, X_test, y_train, y_test = train_test_split(X, y, test_size = 0.2, random_state = k)\n",
    "\n",
    "    lr = LinearRegression()\n",
    "    sbs = SBS(lr, k_features=1, scoring=r2_score, random_state = k)\n",
    "    sbs.fit(X_train, y_train)\n",
    "    selected_features = list(sbs.subsets_[n_of_features - n_of_selected_features])\n",
    "    print(\"Trial {:2d}; Best {} features: {}\".format(k+1, n_of_selected_features, \n",
    "                                                     df.feature_names[selected_features]))\n",
    "\n",
    "    #======================================================\n",
    "    trn_scores, tst_scores = [], []\n",
    "    for s in range(0, n_of_features):\n",
    "        subset = sbs.subsets_[s]\n",
    "        # 選択された特徴のindexはsubsets_に格納されている．\n",
    "        X_train_sub = X_train[:, subset]\n",
    "        X_test_sub = X_test[:, subset]\n",
    "        lr.fit(X_train_sub, y_train)\n",
    "\n",
    "        trn_scores.append(lr.score(X_train_sub, y_train))\n",
    "        tst_scores.append(lr.score(X_test_sub, y_test))\n",
    "\n",
    "    # trn_scores, tst_scoresは1回の試行における，特徴数毎のスコアリスト\n",
    "    score_train_all += trn_scores\n",
    "    score_test_all += tst_scores"
   ]
  },
  {
   "cell_type": "code",
   "execution_count": 4,
   "metadata": {},
   "outputs": [
    {
     "data": {
      "image/png": "[encoded data removed]",
      "text/plain": [
       "<Figure size 432x288 with 1 Axes>"
      ]
     },
     "metadata": {
      "needs_background": "light"
     },
     "output_type": "display_data"
    }
   ],
   "source": [
    "# 特徴数毎の平均決定係数のグラフをプロット\n",
    "k_feat = [len(k) for k in sbs.subsets_]\n",
    "plt.plot(k_feat, score_train_all/n_of_trials, marker='o', label=\"Training data\")\n",
    "plt.plot(k_feat, score_test_all/n_of_trials, marker='x', label=\"Test data\")\n",
    "plt.ylabel('R^2 score')\n",
    "plt.xlabel('Number of features')\n",
    "plt.legend(loc=\"lower right\")\n",
    "plt.grid()\n",
    "plt.show()"
   ]
  },
  {
   "cell_type": "markdown",
   "metadata": {},
   "source": [
    "### Lasso回帰"
   ]
  },
  {
   "cell_type": "code",
   "execution_count": 5,
   "metadata": {},
   "outputs": [
    {
     "name": "stdout",
     "output_type": "stream",
     "text": [
      "# 1 best validation score:0.724, best param:{'alpha': 0.01}\n",
      "# 2 best validation score:0.707, best param:{'alpha': 0.01}\n",
      "# 3 best validation score:0.711, best param:{'alpha': 0.0001}\n",
      "# 4 best validation score:0.682, best param:{'alpha': 0.01}\n",
      "# 5 best validation score:0.733, best param:{'alpha': 0.0001}\n",
      "# 6 best validation score:0.682, best param:{'alpha': 0.01}\n",
      "# 7 best validation score:0.703, best param:{'alpha': 0.001}\n",
      "# 8 best validation score:0.744, best param:{'alpha': 0.01}\n",
      "# 9 best validation score:0.691, best param:{'alpha': 0.01}\n",
      "#10 best validation score:0.678, best param:{'alpha': 0.0001}\n",
      "#11 best validation score:0.719, best param:{'alpha': 0.01}\n",
      "#12 best validation score:0.718, best param:{'alpha': 0.01}\n",
      "#13 best validation score:0.693, best param:{'alpha': 0.0001}\n",
      "#14 best validation score:0.675, best param:{'alpha': 0.1}\n",
      "#15 best validation score:0.722, best param:{'alpha': 0.0001}\n",
      "#16 best validation score:0.710, best param:{'alpha': 0.1}\n",
      "#17 best validation score:0.726, best param:{'alpha': 0.01}\n",
      "#18 best validation score:0.715, best param:{'alpha': 0.01}\n",
      "#19 best validation score:0.703, best param:{'alpha': 0.001}\n",
      "#20 best validation score:0.663, best param:{'alpha': 0.01}\n",
      "#21 best validation score:0.716, best param:{'alpha': 0.0001}\n",
      "#22 best validation score:0.702, best param:{'alpha': 0.01}\n",
      "#23 best validation score:0.704, best param:{'alpha': 0.01}\n",
      "#24 best validation score:0.704, best param:{'alpha': 0.01}\n",
      "#25 best validation score:0.738, best param:{'alpha': 0.01}\n",
      "#26 best validation score:0.699, best param:{'alpha': 0.1}\n",
      "#27 best validation score:0.731, best param:{'alpha': 0.01}\n",
      "#28 best validation score:0.711, best param:{'alpha': 0.01}\n",
      "#29 best validation score:0.754, best param:{'alpha': 0.0001}\n",
      "#30 best validation score:0.708, best param:{'alpha': 0.01}\n"
     ]
    }
   ],
   "source": [
    "from sklearn.linear_model import Lasso\n",
    "from sklearn.model_selection import GridSearchCV\n",
    "\n",
    "params = {'alpha':[0.0001, 0.001, 0.01, 0.1, 1.0]}\n",
    "\n",
    "tst_scores_lasso = []\n",
    "for k in range(0, n_of_trials):\n",
    "    X_train, X_test, y_train, y_test = train_test_split(X, y, test_size = 0.2, random_state = k)\n",
    "    gs = GridSearchCV(Lasso(), params, cv=3, scoring=\"r2\")\n",
    "    gs.fit(X_train, y_train)\n",
    "    print(\"#{:2d} best validation score:{:.3f}, best param:{}\".format(k+1, gs.best_score_, gs.best_params_))\n",
    "    \n",
    "    # ベストパラメータで再学習しテストデータに適用\n",
    "    lasso = Lasso(alpha=gs.best_params_['alpha'])\n",
    "    lasso.fit(X_train, y_train)\n",
    "    tst_scores_lasso.append(lasso.score(X_test, y_test))"
   ]
  },
  {
   "cell_type": "code",
   "execution_count": 6,
   "metadata": {},
   "outputs": [
    {
     "name": "stdout",
     "output_type": "stream",
     "text": [
      "Ave. test accuracy: 0.700\n"
     ]
    }
   ],
   "source": [
    "print(\"Ave. test accuracy: {:.3f}\".format(np.mean(tst_scores_lasso)))"
   ]
  },
  {
   "cell_type": "markdown",
   "metadata": {},
   "source": [
    "### SVR"
   ]
  },
  {
   "cell_type": "code",
   "execution_count": 7,
   "metadata": {},
   "outputs": [
    {
     "name": "stdout",
     "output_type": "stream",
     "text": [
      "# 1 best validation score:0.838, best param:{'C': 100.0, 'epsilon': 0.1, 'gamma': 0.01}\n",
      "# 2 best validation score:0.838, best param:{'C': 100.0, 'epsilon': 0.01, 'gamma': 0.05}\n",
      "# 3 best validation score:0.826, best param:{'C': 100.0, 'epsilon': 1.0, 'gamma': 0.05}\n",
      "# 4 best validation score:0.807, best param:{'C': 100.0, 'epsilon': 1.0, 'gamma': 0.05}\n",
      "# 5 best validation score:0.843, best param:{'C': 100.0, 'epsilon': 1.0, 'gamma': 0.05}\n",
      "# 6 best validation score:0.844, best param:{'C': 100.0, 'epsilon': 1.0, 'gamma': 0.05}\n",
      "# 7 best validation score:0.837, best param:{'C': 100.0, 'epsilon': 1.0, 'gamma': 0.05}\n",
      "# 8 best validation score:0.870, best param:{'C': 1000.0, 'epsilon': 1.0, 'gamma': 0.01}\n",
      "# 9 best validation score:0.824, best param:{'C': 100.0, 'epsilon': 0.01, 'gamma': 0.01}\n",
      "#10 best validation score:0.833, best param:{'C': 100.0, 'epsilon': 1.0, 'gamma': 0.05}\n",
      "#11 best validation score:0.835, best param:{'C': 1000.0, 'epsilon': 1.0, 'gamma': 0.05}\n",
      "#12 best validation score:0.872, best param:{'C': 100.0, 'epsilon': 1.0, 'gamma': 0.05}\n",
      "#13 best validation score:0.849, best param:{'C': 1000.0, 'epsilon': 1.0, 'gamma': 0.05}\n",
      "#14 best validation score:0.790, best param:{'C': 1000.0, 'epsilon': 1.0, 'gamma': 0.05}\n",
      "#15 best validation score:0.856, best param:{'C': 100.0, 'epsilon': 1.0, 'gamma': 0.1}\n",
      "#16 best validation score:0.851, best param:{'C': 1000.0, 'epsilon': 1.0, 'gamma': 0.01}\n",
      "#17 best validation score:0.870, best param:{'C': 100.0, 'epsilon': 0.1, 'gamma': 0.1}\n",
      "#18 best validation score:0.868, best param:{'C': 100.0, 'epsilon': 0.1, 'gamma': 0.05}\n",
      "#19 best validation score:0.873, best param:{'C': 100.0, 'epsilon': 0.1, 'gamma': 0.05}\n",
      "#20 best validation score:0.863, best param:{'C': 100.0, 'epsilon': 1.0, 'gamma': 0.05}\n",
      "#21 best validation score:0.885, best param:{'C': 100.0, 'epsilon': 1.0, 'gamma': 0.05}\n",
      "#22 best validation score:0.872, best param:{'C': 100.0, 'epsilon': 0.1, 'gamma': 0.05}\n",
      "#23 best validation score:0.843, best param:{'C': 1000.0, 'epsilon': 1.0, 'gamma': 0.01}\n",
      "#24 best validation score:0.858, best param:{'C': 1000.0, 'epsilon': 0.01, 'gamma': 0.01}\n",
      "#25 best validation score:0.886, best param:{'C': 100.0, 'epsilon': 1.0, 'gamma': 0.05}\n",
      "#26 best validation score:0.837, best param:{'C': 100.0, 'epsilon': 1.0, 'gamma': 0.01}\n",
      "#27 best validation score:0.859, best param:{'C': 100.0, 'epsilon': 0.01, 'gamma': 0.05}\n",
      "#28 best validation score:0.843, best param:{'C': 1000.0, 'epsilon': 0.01, 'gamma': 0.01}\n",
      "#29 best validation score:0.873, best param:{'C': 100.0, 'epsilon': 1.0, 'gamma': 0.05}\n",
      "#30 best validation score:0.876, best param:{'C': 100.0, 'epsilon': 0.01, 'gamma': 0.05}\n"
     ]
    }
   ],
   "source": [
    "from sklearn.svm import SVR\n",
    "\n",
    "params = {'gamma':[0.01, 0.05, 0.1], 'epsilon':[0.01, 0.1, 1.0], 'C':[10.0, 100.0, 1000.0]}\n",
    "\n",
    "tst_scores_svr= []\n",
    "for k in range(0, n_of_trials):\n",
    "    X_train, X_test, y_train, y_test = train_test_split(X, y, test_size = 0.2, random_state = k)\n",
    "    gs = GridSearchCV(SVR(kernel='rbf'), params, cv=3, scoring=\"r2\")\n",
    "    gs.fit(X_train, y_train)\n",
    "    print(\"#{:2d} best validation score:{:.3f}, best param:{}\".format(k+1, gs.best_score_, gs.best_params_))\n",
    "    \n",
    "    # ベストパラメータで再学習しテストデータに適用\n",
    "    svr = SVR(kernel='rbf', gamma=gs.best_params_['gamma'], epsilon=gs.best_params_['epsilon'], C=gs.best_params_['C'])\n",
    "    svr.fit(X_train, y_train)\n",
    "    tst_scores_svr.append(svr.score(X_test, y_test))"
   ]
  },
  {
   "cell_type": "code",
   "execution_count": 8,
   "metadata": {},
   "outputs": [
    {
     "name": "stdout",
     "output_type": "stream",
     "text": [
      "Ave. test accuracy: 0.841\n"
     ]
    }
   ],
   "source": [
    "print(\"Ave. test accuracy: {:.3f}\".format(np.mean(tst_scores_svr)))"
   ]
  }
 ],
 "metadata": {
  "kernelspec": {
   "display_name": "Python 3",
   "language": "python",
   "name": "python3"
  },
  "language_info": {
   "codemirror_mode": {
    "name": "ipython",
    "version": 3
   },
   "file_extension": ".py",
   "mimetype": "text/x-python",
   "name": "python",
   "nbconvert_exporter": "python",
   "pygments_lexer": "ipython3",
   "version": "3.8.6"
  }
 },
 "nbformat": 4,
 "nbformat_minor": 2
}
